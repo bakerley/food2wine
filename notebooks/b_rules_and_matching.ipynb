{
 "cells": [
  {
   "cell_type": "code",
   "execution_count": 2,
   "id": "dangerous-semiconductor",
   "metadata": {},
   "outputs": [],
   "source": [
    "import pandas as pd\n",
    "import numpy as np\n",
    "from gensim.models import Word2Vec"
   ]
  },
  {
   "cell_type": "code",
   "execution_count": 3,
   "id": "north-panic",
   "metadata": {},
   "outputs": [],
   "source": [
    "def minmax_scaler(val, minval, maxval):\n",
    "    val = max(min(val, maxval), minval)\n",
    "    normalized_val = (val - minval)/(maxval - minval)\n",
    "    return normalized_val\n",
    "\n",
    "# this function makes sure that a scaled value (between 0 and 1) is returned for a food nonaroma\n",
    "def check_in_range(label_range_dict, value):\n",
    "    for label, value_range_tuple in label_range_dict.items():\n",
    "        lower_end = value_range_tuple[0]\n",
    "        upper_end = value_range_tuple[1]\n",
    "        if value >= lower_end and value <= upper_end:\n",
    "            return label\n",
    "        else:\n",
    "            continue\n",
    "\n",
    "# this function calculates the average word embedding of all foods supplied as input\n",
    "def calculate_avg_food_vec(sample_foods):\n",
    "    sample_food_vecs = []\n",
    "    for s in sample_foods:\n",
    "        sample_food_vec = word_vectors[s]\n",
    "        sample_food_vecs.append(sample_food_vec)\n",
    "    sample_food_vecs_avg = np.average(sample_food_vecs, axis=0)\n",
    "    return sample_food_vecs_avg\n",
    "\n",
    "# this function returns two things: a score (between 0 and 1) and a normalized value (integer between 1 and 4) for a given nonaroma\n",
    "def nonaroma_values(nonaroma, average_food_embedding):\n",
    "    average_taste_vec = food_nonaroma_infos.at[nonaroma, 'average_vec']\n",
    "    average_taste_vec = re.sub('\\s+', ',', average_taste_vec)\n",
    "    average_taste_vec = average_taste_vec.replace('[,', '[')\n",
    "    average_taste_vec  = np.array(ast.literal_eval(average_taste_vec))\n",
    "\n",
    "    similarity = 1 - spatial.distance.cosine(average_taste_vec, average_food_embedding)\n",
    "    # scale the similarity using our minmax scaler\n",
    "    scaled_similarity = minmax_scaler(similarity, food_nonaroma_infos.at[nonaroma, 'farthest'], \n",
    "                                      food_nonaroma_infos.at[nonaroma, 'closest'])\n",
    "    standardized_similarity = check_in_range(food_weights[nonaroma], scaled_similarity)\n",
    "    similarity_and_scalar = (scaled_similarity, standardized_similarity)\n",
    "    return similarity_and_scalar\n",
    "\n",
    "# this function loops through the various nonaromas, returning the nonaroma scores & normalized values, the body/weight of the food and the average food embedding \n",
    "def return_all_food_values(sample_foods):\n",
    "    food_nonaromas = dict()\n",
    "    average_food_embedding = calculate_avg_food_vec(sample_foods)\n",
    "    for nonaroma in ['sweet', 'acid', 'salt', 'piquant', 'fat', 'bitter']:\n",
    "        food_nonaromas[nonaroma] = nonaroma_values(nonaroma, average_food_embedding)\n",
    "    food_weight = nonaroma_values('weight', average_food_embedding)\n",
    "    return food_nonaromas, food_weight, average_food_embedding"
   ]
  },
  {
   "cell_type": "code",
   "execution_count": 4,
   "id": "behind-plasma",
   "metadata": {
    "code_folding": []
   },
   "outputs": [],
   "source": [
    "\n",
    "# this is the mapping of food similarities to the normalized ordinal integer values between 1 and 4\n",
    "food_weights = {\n",
    "    'weight': {1: (0, 0.3), 2: (0.3, 0.5), 3: (0.5, 0.7), 4: (0.7, 1)},\n",
    "    'sweet': {1: (0, 0.45), 2: (0.45, 0.6), 3: (0.6, 0.8), 4: (0.8, 1)},\n",
    "    'acid': {1: (0, 0.4), 2: (0.4, 0.55), 3: (0.55, 0.7), 4: (0.7, 1)},\n",
    "    'salt': {1: (0, 0.3), 2: (0.3, 0.55), 3: (0.55, 0.8), 4: (0.8, 1)},\n",
    "    'piquant': {1: (0, 0.4), 2: (0.4, 0.6), 3: (0.6, 0.8), 4: (0.8, 1)},\n",
    "    'fat': {1: (0, 0.4), 2: (0.4, 0.5), 3: (0.5, 0.6), 4: (0.6, 1)},\n",
    "    'bitter': {1: (0, 0.3), 2: (0.3, 0.5), 3: (0.5, 0.65), 4: (0.65, 1)}\n",
    "}"
   ]
  },
  {
   "cell_type": "code",
   "execution_count": null,
   "id": "british-slovakia",
   "metadata": {},
   "outputs": [],
   "source": [
    "    #Rule 1: the wine should have at least the same body as the food\n",
    "    # Rule 2: the wine should be at least as acidic as the food\n",
    "    # Rule 3: the wine should be at least as sweet as the food\n",
    "    # Rule 4: bitter wines do not pair well with bitter foods\n",
    "    # Rule 5: bitter and salt do not go well together\n",
    "     # Rule 6: acid and bitterness do not go well together"
   ]
  },
  {
   "cell_type": "code",
   "execution_count": 16,
   "id": "crude-inside",
   "metadata": {},
   "outputs": [],
   "source": [
    "def weight_rule(df, food_weight):\n",
    "    # Rule 1: the wine should have at least the same body as the food\n",
    "    df = df.loc[(df['weight'] >= food_weight[1] - 1) & (df['weight'] <= food_weight[1])]\n",
    "    return df\n",
    "\n",
    "def acidity_rule(df, food_nonaromas):\n",
    "    # Rule 2: the wine should be at least as acidic as the food\n",
    "    df = df.loc[df['acid'] >= food_nonaromas['acid'][1]]\n",
    "    return df\n",
    "\n",
    "def sweetness_rule(df, food_nonaromas):\n",
    "    # Rule 3: the wine should be at least as sweet as the food\n",
    "    df = df.loc[df['sweet'] >= food_nonaromas['sweet'][1]]\n",
    "    return df\n",
    "\n",
    "def bitterness_rule(df, food_nonaromas):\n",
    "    # Rule 4: bitter wines do not pair well with bitter foods \n",
    "    if food_nonaromas['bitter'][1] == 4:\n",
    "        df = df.loc[df['bitter'] <= 2]\n",
    "    return df\n",
    "\n",
    "def bitter_salt_rule(df, food_nonaromas):\n",
    "    # Rule 5: bitter and salt do not go well together\n",
    "    if food_nonaromas['bitter'][1] == 4:\n",
    "        df = df.loc[(df['salt'] <= 2)]\n",
    "    if food_nonaromas['salt'] == 4:\n",
    "        df = df.loc[(df['bitter'][1] <= 2)]\n",
    "    return df\n",
    "    \n",
    "def acid_bitter_rule(df, food_nonaromas):\n",
    "    # Rule 6: acid and bitterness do not go well together\n",
    "    if food_nonaromas['acid'][1] == 4:\n",
    "        df = df.loc[(df['bitter'] <= 2)]\n",
    "    if food_nonaromas['bitter'][1] == 4:\n",
    "        df = df.loc[(df['acid'] <= 2)]\n",
    "    return df\n",
    "\n",
    "def acid_piquant_rule(df, food_nonaromas):\n",
    "    # Rule 7: acid and piquant do not go well together\n",
    "    if food_nonaromas['acid'][1] == 4:\n",
    "        df = df.loc[(df['piquant'] <= 2)]\n",
    "    if food_nonaromas['piquant'][1] == 4:\n",
    "        df = df.loc[(df['acid'] <= 2)]\n",
    "    return df\n",
    "\n",
    "def nonaroma_rules(wine_df, food_nonaromas, food_weight):\n",
    "    df = weight_rule(wine_df, food_weight)\n",
    "    list_of_tests = [acidity_rule, sweetness_rule, bitterness_rule, bitter_salt_rule, acid_bitter_rule, acid_piquant_rule]\n",
    "    for t in list_of_tests:\n",
    "        # only apply the rule if it retains a sufficient number of wines in the selection.\n",
    "        df_test = t(df, food_nonaromas)\n",
    "        if df_test.shape[0] > 5:\n",
    "            df = t(df, food_nonaromas)\n",
    "#         print(df.shape)\n",
    "    return df"
   ]
  },
  {
   "cell_type": "code",
   "execution_count": 17,
   "id": "analyzed-alexandria",
   "metadata": {},
   "outputs": [],
   "source": [
    "def sort_by_aroma_similarity(df, food_aroma):\n",
    "    \n",
    "    def nparray_str_to_list(array_string):\n",
    "        average_taste_vec = re.sub('\\s+', ',', array_string)\n",
    "        average_taste_vec = average_taste_vec.replace('[,', '[')\n",
    "        average_taste_vec  = np.array(ast.literal_eval(average_taste_vec))\n",
    "        return average_taste_vec\n",
    "    \n",
    "    df['aroma'] = df['aroma'].apply(nparray_str_to_list)\n",
    "    df['aroma_distance'] = df['aroma'].apply(lambda x: spatial.distance.cosine(x, food_aroma))\n",
    "    df.sort_values(by=['aroma_distance'], ascending=True, inplace=True)\n",
    "    return df"
   ]
  },
  {
   "cell_type": "code",
   "execution_count": 19,
   "id": "instrumental-survival",
   "metadata": {},
   "outputs": [
    {
     "ename": "NameError",
     "evalue": "name 'word_vectors' is not defined",
     "output_type": "error",
     "traceback": [
      "\u001b[0;31m---------------------------------------------------------------------------\u001b[0m",
      "\u001b[0;31mNameError\u001b[0m                                 Traceback (most recent call last)",
      "\u001b[0;32m<ipython-input-19-7bef0b74ffab>\u001b[0m in \u001b[0;36m<module>\u001b[0;34m\u001b[0m\n\u001b[1;32m      1\u001b[0m \u001b[0mtest_food\u001b[0m \u001b[0;34m=\u001b[0m \u001b[0;34m[\u001b[0m\u001b[0;34m'potato'\u001b[0m\u001b[0;34m,\u001b[0m \u001b[0;34m'cheese'\u001b[0m\u001b[0;34m,\u001b[0m \u001b[0;34m'beef'\u001b[0m\u001b[0;34m,\u001b[0m \u001b[0;34m'onion'\u001b[0m\u001b[0;34m,\u001b[0m \u001b[0;34m'bread'\u001b[0m\u001b[0;34m,\u001b[0m \u001b[0;34m'mustard'\u001b[0m\u001b[0;34m]\u001b[0m\u001b[0;34m\u001b[0m\u001b[0;34m\u001b[0m\u001b[0m\n\u001b[1;32m      2\u001b[0m \u001b[0;34m\u001b[0m\u001b[0m\n\u001b[0;32m----> 3\u001b[0;31m \u001b[0mfood_nonaromas\u001b[0m\u001b[0;34m,\u001b[0m \u001b[0mfood_weight\u001b[0m\u001b[0;34m,\u001b[0m \u001b[0maroma_embedding\u001b[0m \u001b[0;34m=\u001b[0m \u001b[0mreturn_all_food_values\u001b[0m\u001b[0;34m(\u001b[0m\u001b[0mtest_food\u001b[0m\u001b[0;34m)\u001b[0m\u001b[0;34m\u001b[0m\u001b[0;34m\u001b[0m\u001b[0m\n\u001b[0m\u001b[1;32m      4\u001b[0m \u001b[0;34m\u001b[0m\u001b[0m\n\u001b[1;32m      5\u001b[0m \u001b[0;31m# wine_recommendations = wine_variety_vectors_normalized.copy()\u001b[0m\u001b[0;34m\u001b[0m\u001b[0;34m\u001b[0m\u001b[0;34m\u001b[0m\u001b[0m\n",
      "\u001b[0;32m<ipython-input-3-46b7359a5a5e>\u001b[0m in \u001b[0;36mreturn_all_food_values\u001b[0;34m(sample_foods)\u001b[0m\n\u001b[1;32m     41\u001b[0m \u001b[0;32mdef\u001b[0m \u001b[0mreturn_all_food_values\u001b[0m\u001b[0;34m(\u001b[0m\u001b[0msample_foods\u001b[0m\u001b[0;34m)\u001b[0m\u001b[0;34m:\u001b[0m\u001b[0;34m\u001b[0m\u001b[0;34m\u001b[0m\u001b[0m\n\u001b[1;32m     42\u001b[0m     \u001b[0mfood_nonaromas\u001b[0m \u001b[0;34m=\u001b[0m \u001b[0mdict\u001b[0m\u001b[0;34m(\u001b[0m\u001b[0;34m)\u001b[0m\u001b[0;34m\u001b[0m\u001b[0;34m\u001b[0m\u001b[0m\n\u001b[0;32m---> 43\u001b[0;31m     \u001b[0maverage_food_embedding\u001b[0m \u001b[0;34m=\u001b[0m \u001b[0mcalculate_avg_food_vec\u001b[0m\u001b[0;34m(\u001b[0m\u001b[0msample_foods\u001b[0m\u001b[0;34m)\u001b[0m\u001b[0;34m\u001b[0m\u001b[0;34m\u001b[0m\u001b[0m\n\u001b[0m\u001b[1;32m     44\u001b[0m     \u001b[0;32mfor\u001b[0m \u001b[0mnonaroma\u001b[0m \u001b[0;32min\u001b[0m \u001b[0;34m[\u001b[0m\u001b[0;34m'sweet'\u001b[0m\u001b[0;34m,\u001b[0m \u001b[0;34m'acid'\u001b[0m\u001b[0;34m,\u001b[0m \u001b[0;34m'salt'\u001b[0m\u001b[0;34m,\u001b[0m \u001b[0;34m'piquant'\u001b[0m\u001b[0;34m,\u001b[0m \u001b[0;34m'fat'\u001b[0m\u001b[0;34m,\u001b[0m \u001b[0;34m'bitter'\u001b[0m\u001b[0;34m]\u001b[0m\u001b[0;34m:\u001b[0m\u001b[0;34m\u001b[0m\u001b[0;34m\u001b[0m\u001b[0m\n\u001b[1;32m     45\u001b[0m         \u001b[0mfood_nonaromas\u001b[0m\u001b[0;34m[\u001b[0m\u001b[0mnonaroma\u001b[0m\u001b[0;34m]\u001b[0m \u001b[0;34m=\u001b[0m \u001b[0mnonaroma_values\u001b[0m\u001b[0;34m(\u001b[0m\u001b[0mnonaroma\u001b[0m\u001b[0;34m,\u001b[0m \u001b[0maverage_food_embedding\u001b[0m\u001b[0;34m)\u001b[0m\u001b[0;34m\u001b[0m\u001b[0;34m\u001b[0m\u001b[0m\n",
      "\u001b[0;32m<ipython-input-3-46b7359a5a5e>\u001b[0m in \u001b[0;36mcalculate_avg_food_vec\u001b[0;34m(sample_foods)\u001b[0m\n\u001b[1;32m     18\u001b[0m     \u001b[0msample_food_vecs\u001b[0m \u001b[0;34m=\u001b[0m \u001b[0;34m[\u001b[0m\u001b[0;34m]\u001b[0m\u001b[0;34m\u001b[0m\u001b[0;34m\u001b[0m\u001b[0m\n\u001b[1;32m     19\u001b[0m     \u001b[0;32mfor\u001b[0m \u001b[0ms\u001b[0m \u001b[0;32min\u001b[0m \u001b[0msample_foods\u001b[0m\u001b[0;34m:\u001b[0m\u001b[0;34m\u001b[0m\u001b[0;34m\u001b[0m\u001b[0m\n\u001b[0;32m---> 20\u001b[0;31m         \u001b[0msample_food_vec\u001b[0m \u001b[0;34m=\u001b[0m \u001b[0mword_vectors\u001b[0m\u001b[0;34m[\u001b[0m\u001b[0ms\u001b[0m\u001b[0;34m]\u001b[0m\u001b[0;34m\u001b[0m\u001b[0;34m\u001b[0m\u001b[0m\n\u001b[0m\u001b[1;32m     21\u001b[0m         \u001b[0msample_food_vecs\u001b[0m\u001b[0;34m.\u001b[0m\u001b[0mappend\u001b[0m\u001b[0;34m(\u001b[0m\u001b[0msample_food_vec\u001b[0m\u001b[0;34m)\u001b[0m\u001b[0;34m\u001b[0m\u001b[0;34m\u001b[0m\u001b[0m\n\u001b[1;32m     22\u001b[0m     \u001b[0msample_food_vecs_avg\u001b[0m \u001b[0;34m=\u001b[0m \u001b[0mnp\u001b[0m\u001b[0;34m.\u001b[0m\u001b[0maverage\u001b[0m\u001b[0;34m(\u001b[0m\u001b[0msample_food_vecs\u001b[0m\u001b[0;34m,\u001b[0m \u001b[0maxis\u001b[0m\u001b[0;34m=\u001b[0m\u001b[0;36m0\u001b[0m\u001b[0;34m)\u001b[0m\u001b[0;34m\u001b[0m\u001b[0;34m\u001b[0m\u001b[0m\n",
      "\u001b[0;31mNameError\u001b[0m: name 'word_vectors' is not defined"
     ]
    }
   ],
   "source": [
    "test_food = ['potato', 'cheese', 'beef', 'onion', 'bread', 'mustard']\n",
    "\n",
    "food_nonaromas, food_weight, aroma_embedding = return_all_food_values(test_food)\n",
    "\n",
    "# wine_recommendations = wine_variety_vectors_normalized.copy()\n",
    "# wine_recommendations = nonaroma_rules(wine_recommendations, food_nonaromas, food_weight)\n",
    "# wine_recommendations = sort_by_aroma_similarity(wine_recommendations, aroma_embedding)\n",
    "# wine_recommendations['most_impactful_descriptors'] = wine_recommendations.index.map(most_impactful_descriptors)"
   ]
  },
  {
   "cell_type": "code",
   "execution_count": 6,
   "id": "graphic-absorption",
   "metadata": {},
   "outputs": [
    {
     "ename": "NameError",
     "evalue": "name 'food_nonaromas' is not defined",
     "output_type": "error",
     "traceback": [
      "\u001b[0;31m---------------------------------------------------------------------------\u001b[0m",
      "\u001b[0;31mNameError\u001b[0m                                 Traceback (most recent call last)",
      "\u001b[0;32m<ipython-input-6-3ff238c628c2>\u001b[0m in \u001b[0;36m<module>\u001b[0;34m\u001b[0m\n\u001b[0;32m----> 1\u001b[0;31m \u001b[0mfood_nonaromas\u001b[0m\u001b[0;34m\u001b[0m\u001b[0;34m\u001b[0m\u001b[0m\n\u001b[0m",
      "\u001b[0;31mNameError\u001b[0m: name 'food_nonaromas' is not defined"
     ]
    }
   ],
   "source": [
    "food_nonaromas"
   ]
  },
  {
   "cell_type": "code",
   "execution_count": null,
   "id": "sustainable-dover",
   "metadata": {},
   "outputs": [],
   "source": []
  }
 ],
 "metadata": {
  "kernelspec": {
   "display_name": "Python 3",
   "language": "python",
   "name": "python3"
  },
  "language_info": {
   "codemirror_mode": {
    "name": "ipython",
    "version": 3
   },
   "file_extension": ".py",
   "mimetype": "text/x-python",
   "name": "python",
   "nbconvert_exporter": "python",
   "pygments_lexer": "ipython3",
   "version": "3.8.6"
  }
 },
 "nbformat": 4,
 "nbformat_minor": 5
}
