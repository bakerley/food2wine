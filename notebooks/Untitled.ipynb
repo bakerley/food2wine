{
 "cells": [
  {
   "cell_type": "code",
   "execution_count": 1,
   "metadata": {},
   "outputs": [],
   "source": [
    "import matplotlib.pyplot as plt\n",
    "import numpy as np\n",
    "from nltk.stem import WordNetLemmatizer\n",
    "from nltk.corpus import stopwords\n",
    "import re"
   ]
  },
  {
   "cell_type": "code",
   "execution_count": 5,
   "metadata": {},
   "outputs": [],
   "source": [
    "def clean(list_food):\n",
    "    # 2. Retaining only alphabets.\n",
    "    review_text = re.sub(\"[^a-zA-Z]\",\" \",list_food)\n",
    "    # 3. Converting to lower case and splittingç\n",
    "    word_tokens= review_text.lower().split()\n",
    "    # 4. Remove stopwords\n",
    "    le=WordNetLemmatizer()\n",
    "    stop_words= set(stopwords.words(\"english\"))\n",
    "    word_tokens= [le.lemmatize(w) for w in word_tokens if not w in stop_words]\n",
    "    return list(word_tokens)"
   ]
  },
  {
   "cell_type": "code",
   "execution_count": 6,
   "metadata": {},
   "outputs": [
    {
     "data": {
      "text/plain": [
       "['whole',\n",
       " 'wheat',\n",
       " 'wheat',\n",
       " 'bran',\n",
       " 'sugar',\n",
       " 'glucose',\n",
       " 'fructose',\n",
       " 'salt',\n",
       " 'malt',\n",
       " 'corn',\n",
       " 'flour',\n",
       " 'malted',\n",
       " 'barley',\n",
       " 'vitamin',\n",
       " 'thiamine',\n",
       " 'hydrochloride',\n",
       " 'pyridoxine',\n",
       " 'hydrochloride',\n",
       " 'folic',\n",
       " 'acid',\n",
       " 'calcium',\n",
       " 'pantothenate',\n",
       " 'mineral',\n",
       " 'iron',\n",
       " 'zinc',\n",
       " 'oxide']"
      ]
     },
     "execution_count": 6,
     "metadata": {},
     "output_type": "execute_result"
    }
   ],
   "source": [
    "list_food = 'Whole wheat, wheat bran, sugar/glucose-fructose, salt, malt (corn flour, malted barley), vitamins (thiamine hydrochloride, pyridoxine hydrochloride, folic acid, d-calcium pantothenate), minerals (iron, zinc oxide).'\n",
    "clean(list_food)"
   ]
  },
  {
   "cell_type": "code",
   "execution_count": null,
   "metadata": {},
   "outputs": [],
   "source": []
  }
 ],
 "metadata": {
  "kernelspec": {
   "display_name": "Python 3",
   "language": "python",
   "name": "python3"
  },
  "language_info": {
   "codemirror_mode": {
    "name": "ipython",
    "version": 3
   },
   "file_extension": ".py",
   "mimetype": "text/x-python",
   "name": "python",
   "nbconvert_exporter": "python",
   "pygments_lexer": "ipython3",
   "version": "3.8.5"
  }
 },
 "nbformat": 4,
 "nbformat_minor": 4
}
