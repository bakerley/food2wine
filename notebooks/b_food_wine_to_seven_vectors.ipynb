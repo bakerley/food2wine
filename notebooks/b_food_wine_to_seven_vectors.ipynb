{
 "cells": [
  {
   "cell_type": "code",
   "execution_count": 22,
   "id": "lasting-projector",
   "metadata": {},
   "outputs": [],
   "source": [
    "import pandas as pd\n",
    "from bs4 import BeautifulSoup\n",
    "from nltk.stem import WordNetLemmatizer\n",
    "from nltk.corpus import stopwords\n",
    "import re\n",
    "from gensim.models import Word2Vec\n",
    "import numpy as np"
   ]
  },
  {
   "cell_type": "code",
   "execution_count": 23,
   "id": "atmospheric-investing",
   "metadata": {},
   "outputs": [],
   "source": [
    "def clean_reviews(review):\n",
    "    cleantext = BeautifulSoup(review, \"lxml\").text\n",
    "    # 2. Retaining only alphabets.\n",
    "    review_text = re.sub(\"[^a-zA-Z]\",\" \",cleantext)\n",
    "    # 3. Converting to lower case and splittingç\n",
    "    word_tokens= review_text.lower().split()\n",
    "    # 4. Remove stopwords\n",
    "    le=WordNetLemmatizer()\n",
    "    stop_words= set(stopwords.words(\"english\"))     \n",
    "    word_tokens= [le.lemmatize(w) for w in word_tokens if not w in stop_words]\n",
    "    cleaned_review=\" \".join(word_tokens)\n",
    "    return cleaned_review"
   ]
  },
  {
   "cell_type": "markdown",
   "id": "false-activity",
   "metadata": {},
   "source": []
  },
  {
   "cell_type": "code",
   "execution_count": 24,
   "id": "assigned-guyana",
   "metadata": {},
   "outputs": [],
   "source": [
    "foods = pd.read_csv('../raw_data/list_of_foods.csv')\n",
    "foods_list = list(foods['Food'])\n",
    "foods_list_normalized = [clean_reviews(f) for f in foods_list]\n",
    "foods_list_preprocessed = list(set(foods_list_normalized))"
   ]
  },
  {
   "cell_type": "code",
   "execution_count": 25,
   "id": "verified-filing",
   "metadata": {},
   "outputs": [],
   "source": [
    "wine_word2vec_model = Word2Vec.load(\"../raw_data/food_word2vec_model.bin\")"
   ]
  },
  {
   "cell_type": "code",
   "execution_count": 26,
   "id": "floppy-archives",
   "metadata": {},
   "outputs": [],
   "source": [
    "foods_vecs = dict()\n",
    "\n",
    "word_vectors = wine_word2vec_model.wv\n",
    "for f in foods_list_preprocessed:\n",
    "    try:\n",
    "        food_vec = word_vectors[f]\n",
    "        foods_vecs[f] = food_vec\n",
    "    except:\n",
    "        continue"
   ]
  },
  {
   "cell_type": "code",
   "execution_count": 29,
   "id": "split-display",
   "metadata": {},
   "outputs": [],
   "source": [
    "from scipy import spatial\n",
    "\n",
    "core_tastes_revised = {'weight': ['heavy', 'cassoulet', 'cassoulet', 'full_bodied', 'thick', 'milk', 'fat', 'mincemeat', 'steak', 'bold', 'pizza', 'pasta', 'creamy', 'bread'],\n",
    "                       'sweet': ['sweet', 'sugar', 'cake', 'mango', 'stevia'], \n",
    "                       'acid': ['acid', 'sour', 'vinegar', 'yoghurt'],\n",
    "                       'salt': ['salty', 'salty', 'parmesan', 'oyster', 'pizza', 'bacon', 'cured_meat', 'sausage', 'potato_chip'], \n",
    "                       'piquant': ['spicy'], \n",
    "                       'fat': ['fat', 'fried', 'creamy', 'cassoulet', 'foie_gras', 'buttery', 'cake', 'foie_gras', 'sausage', 'brie', 'carbonara'], \n",
    "                       'bitter': ['bitter', 'kale']\n",
    "                      }\n",
    "\n",
    "average_taste_vecs = dict()\n",
    "core_tastes_distances = dict()\n",
    "for taste, keywords in core_tastes_revised.items():\n",
    "    \n",
    "    all_keyword_vecs = []\n",
    "    for keyword in keywords:\n",
    "        c_vec = word_vectors[keyword]\n",
    "        all_keyword_vecs.append(c_vec)\n",
    "    \n",
    "    avg_taste_vec = np.average(all_keyword_vecs, axis=0)\n",
    "    average_taste_vecs[taste] = avg_taste_vec\n",
    "        \n",
    "    taste_distances = dict()\n",
    "    for k, v in foods_vecs.items():\n",
    "        similarity = 1- spatial.distance.cosine(avg_taste_vec, v)\n",
    "        taste_distances[k] = similarity\n",
    "        \n",
    "    core_tastes_distances[taste] = taste_distances"
   ]
  },
  {
   "cell_type": "code",
   "execution_count": 30,
   "id": "devoted-equipment",
   "metadata": {},
   "outputs": [
    {
     "name": "stdout",
     "output_type": "stream",
     "text": [
      "weight dragonfruit pasta\n",
      "sweet mackerel honey\n",
      "acid nibble tart\n",
      "salt nectar bacon\n",
      "piquant foodstuff pepper\n",
      "fat coffee sausage\n",
      "bitter biscuit kale\n"
     ]
    }
   ],
   "source": [
    "food_nonaroma_infos = dict()\n",
    "# for each core taste, identify the food item that is farthest and closest. We will need this to create a normalized scale between 0 and 1\n",
    "for key, value in core_tastes_revised.items():\n",
    "    dict_taste = dict()\n",
    "    farthest = min(core_tastes_distances[key], key=core_tastes_distances[key].get)\n",
    "    farthest_distance = core_tastes_distances[key][farthest]\n",
    "    closest = max(core_tastes_distances[key], key=core_tastes_distances[key].get)\n",
    "    closest_distance = core_tastes_distances[key][closest]\n",
    "    print(key, farthest, closest)\n",
    "    dict_taste['farthest'] = farthest_distance\n",
    "    dict_taste['closest'] = closest_distance\n",
    "    dict_taste['average_vec'] = average_taste_vecs[key]\n",
    "    food_nonaroma_infos[key] = dict_taste"
   ]
  },
  {
   "cell_type": "code",
   "execution_count": 32,
   "id": "beginning-memorabilia",
   "metadata": {},
   "outputs": [],
   "source": [
    "food_nonaroma_infos_df = pd.DataFrame(food_nonaroma_infos).T\n",
    "food_nonaroma_infos_df.to_csv('average_nonaroma_vectors.csv')"
   ]
  },
  {
   "cell_type": "code",
   "execution_count": 33,
   "id": "bored-modification",
   "metadata": {},
   "outputs": [
    {
     "data": {
      "text/html": [
       "<div>\n",
       "<style scoped>\n",
       "    .dataframe tbody tr th:only-of-type {\n",
       "        vertical-align: middle;\n",
       "    }\n",
       "\n",
       "    .dataframe tbody tr th {\n",
       "        vertical-align: top;\n",
       "    }\n",
       "\n",
       "    .dataframe thead th {\n",
       "        text-align: right;\n",
       "    }\n",
       "</style>\n",
       "<table border=\"1\" class=\"dataframe\">\n",
       "  <thead>\n",
       "    <tr style=\"text-align: right;\">\n",
       "      <th></th>\n",
       "      <th>farthest</th>\n",
       "      <th>closest</th>\n",
       "      <th>average_vec</th>\n",
       "    </tr>\n",
       "  </thead>\n",
       "  <tbody>\n",
       "    <tr>\n",
       "      <th>weight</th>\n",
       "      <td>-0.136163</td>\n",
       "      <td>0.494628</td>\n",
       "      <td>[-0.9903981, 0.7549157, -0.11517195, -0.026751...</td>\n",
       "    </tr>\n",
       "    <tr>\n",
       "      <th>sweet</th>\n",
       "      <td>-0.206559</td>\n",
       "      <td>0.511624</td>\n",
       "      <td>[0.03282367, 0.761109, -0.17922759, -1.2561963...</td>\n",
       "    </tr>\n",
       "    <tr>\n",
       "      <th>acid</th>\n",
       "      <td>-0.135847</td>\n",
       "      <td>0.509928</td>\n",
       "      <td>[-0.024031281, 0.7139694, -0.23145452, -0.8389...</td>\n",
       "    </tr>\n",
       "    <tr>\n",
       "      <th>salt</th>\n",
       "      <td>-0.13522</td>\n",
       "      <td>0.619147</td>\n",
       "      <td>[-0.8502851, -0.08972356, -0.52269435, 0.96423...</td>\n",
       "    </tr>\n",
       "    <tr>\n",
       "      <th>piquant</th>\n",
       "      <td>-0.157514</td>\n",
       "      <td>0.491482</td>\n",
       "      <td>[-1.8512405, 0.8314903, -0.66967815, -1.931818...</td>\n",
       "    </tr>\n",
       "    <tr>\n",
       "      <th>fat</th>\n",
       "      <td>-0.103601</td>\n",
       "      <td>0.573433</td>\n",
       "      <td>[-0.23399287, 0.41445056, -0.26073048, -0.2112...</td>\n",
       "    </tr>\n",
       "    <tr>\n",
       "      <th>bitter</th>\n",
       "      <td>-0.161778</td>\n",
       "      <td>0.661107</td>\n",
       "      <td>[-0.38563982, 0.7832479, -0.20703274, -0.67184...</td>\n",
       "    </tr>\n",
       "  </tbody>\n",
       "</table>\n",
       "</div>"
      ],
      "text/plain": [
       "         farthest   closest                                        average_vec\n",
       "weight  -0.136163  0.494628  [-0.9903981, 0.7549157, -0.11517195, -0.026751...\n",
       "sweet   -0.206559  0.511624  [0.03282367, 0.761109, -0.17922759, -1.2561963...\n",
       "acid    -0.135847  0.509928  [-0.024031281, 0.7139694, -0.23145452, -0.8389...\n",
       "salt     -0.13522  0.619147  [-0.8502851, -0.08972356, -0.52269435, 0.96423...\n",
       "piquant -0.157514  0.491482  [-1.8512405, 0.8314903, -0.66967815, -1.931818...\n",
       "fat     -0.103601  0.573433  [-0.23399287, 0.41445056, -0.26073048, -0.2112...\n",
       "bitter  -0.161778  0.661107  [-0.38563982, 0.7832479, -0.20703274, -0.67184..."
      ]
     },
     "execution_count": 33,
     "metadata": {},
     "output_type": "execute_result"
    }
   ],
   "source": [
    "food_nonaroma_infos_df.head(10)"
   ]
  },
  {
   "cell_type": "code",
   "execution_count": null,
   "id": "active-rocket",
   "metadata": {},
   "outputs": [],
   "source": []
  }
 ],
 "metadata": {
  "kernelspec": {
   "display_name": "Python 3",
   "language": "python",
   "name": "python3"
  },
  "language_info": {
   "codemirror_mode": {
    "name": "ipython",
    "version": 3
   },
   "file_extension": ".py",
   "mimetype": "text/x-python",
   "name": "python",
   "nbconvert_exporter": "python",
   "pygments_lexer": "ipython3",
   "version": "3.8.6"
  }
 },
 "nbformat": 4,
 "nbformat_minor": 5
}
